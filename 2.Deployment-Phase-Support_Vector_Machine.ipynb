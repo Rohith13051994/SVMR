{
 "cells": [
  {
   "cell_type": "code",
   "execution_count": 1,
   "id": "65179ecf-e36c-4052-a75f-2cc74ef60010",
   "metadata": {},
   "outputs": [],
   "source": [
    "import pickle"
   ]
  },
  {
   "cell_type": "code",
   "execution_count": 3,
   "id": "64c8fc85-7e0c-4232-813a-1a2b2dbcb2ba",
   "metadata": {},
   "outputs": [],
   "source": [
    "loaded_model=pickle.load(open(\"svm_final.sav\",\"rb\"))\n",
    "result=loaded_model.predict([[1653,1367,484,1,0]])"
   ]
  },
  {
   "cell_type": "code",
   "execution_count": 5,
   "id": "ee4aca57-2484-46c1-9e21-9f22f4603b45",
   "metadata": {},
   "outputs": [
    {
     "data": {
      "text/plain": [
       "array([182902.63652632])"
      ]
     },
     "execution_count": 5,
     "metadata": {},
     "output_type": "execute_result"
    }
   ],
   "source": [
    "result"
   ]
  },
  {
   "cell_type": "code",
   "execution_count": null,
   "id": "70c46afc-c41e-4cbc-a948-a3430687c5b9",
   "metadata": {},
   "outputs": [],
   "source": []
  }
 ],
 "metadata": {
  "kernelspec": {
   "display_name": "Python 3 (ipykernel)",
   "language": "python",
   "name": "python3"
  },
  "language_info": {
   "codemirror_mode": {
    "name": "ipython",
    "version": 3
   },
   "file_extension": ".py",
   "mimetype": "text/x-python",
   "name": "python",
   "nbconvert_exporter": "python",
   "pygments_lexer": "ipython3",
   "version": "3.11.7"
  }
 },
 "nbformat": 4,
 "nbformat_minor": 5
}
